{
 "cells": [
  {
   "cell_type": "code",
   "execution_count": 1,
   "metadata": {
    "collapsed": true
   },
   "outputs": [],
   "source": [
    "import pandas as pd\n",
    "import numpy as np\n",
    "import matplotlib.pyplot as plt\n",
    "from scipy import stats"
   ]
  },
  {
   "cell_type": "code",
   "execution_count": 2,
   "metadata": {
    "collapsed": true
   },
   "outputs": [],
   "source": [
    "datalist = ['data-1.csv', 'data-2.csv', 'data-3.csv', 'data-4.csv', 'data-5.csv', 'data-6.csv']\n",
    "descriptionlist = ['', 'data-2.csv', 'data-3.csv', 'data-4.csv', 'data-5.csv', 'data-6.csv']"
   ]
  },
  {
   "cell_type": "code",
   "execution_count": 3,
   "metadata": {
    "collapsed": true
   },
   "outputs": [],
   "source": [
    "def calculate(data):\n",
    "    xmean = data['x'].mean()\n",
    "    ymean = data['y'].mean()\n",
    "    xsd = data['x'].std()\n",
    "    ysd = data['y'].std()\n",
    "    xmin = data['x'].min()\n",
    "    ymin = data['y'].min()\n",
    "    xmax = data['x'].max()\n",
    "    ymax = data['y'].max()\n",
    "    corr = stats.linregress(data['x'], data['y']).rvalue\n",
    "    return xmean, ymean, xsd, ysd, xmin, ymin, xmax, ymax, corr"
   ]
  },
  {
   "cell_type": "code",
   "execution_count": 4,
   "metadata": {
    "collapsed": true
   },
   "outputs": [],
   "source": [
    "\n"
   ]
  },
  {
   "cell_type": "code",
   "execution_count": 5,
   "metadata": {},
   "outputs": [
    {
     "name": "stdout",
     "output_type": "stream",
     "text": [
      "0\n",
      "1\n",
      "2\n",
      "3\n",
      "4\n",
      "5\n"
     ]
    }
   ],
   "source": [
    "for i in range(0, 6):\n",
    "    print(i)\n",
    "    data = pd.read_csv(datalist[i])\n",
    "    xmean, ymean, xsd, ysd, xmin, ymin, xmax, ymax, corr = calculate(data)\n",
    "    f = open('summary.txt','w')\n",
    "    f.write('Calculations for data-' + str(i) + ':\\n')\n",
    "    f.write('xmean: ' + str(xmean) + '\\n')\n",
    "    f.write('ymean: ' + str(ymean) + '\\n')\n",
    "    f.write('xsd: ' + str(xsd) + '\\n')\n",
    "    f.write('ysd: ' + str(ysd) + '\\n')\n",
    "    f.write('xmin: ' + str(xmin) + '\\n')\n",
    "    f.write('ymin: ' + str(ymin) + '\\n')\n",
    "    f.write('xmax: ' + str(xmax) + '\\n')\n",
    "    f.write('ymax: ' + str(ymax) + '\\n')\n",
    "    f.write('corr: ' + str(corr) + '\\n')\n",
    "    "
   ]
  },
  {
   "cell_type": "code",
   "execution_count": null,
   "metadata": {
    "collapsed": true
   },
   "outputs": [],
   "source": []
  }
 ],
 "metadata": {
  "kernelspec": {
   "display_name": "Python 3",
   "language": "python",
   "name": "python3"
  },
  "language_info": {
   "codemirror_mode": {
    "name": "ipython",
    "version": 3
   },
   "file_extension": ".py",
   "mimetype": "text/x-python",
   "name": "python",
   "nbconvert_exporter": "python",
   "pygments_lexer": "ipython3",
   "version": "3.5.2"
  }
 },
 "nbformat": 4,
 "nbformat_minor": 2
}
